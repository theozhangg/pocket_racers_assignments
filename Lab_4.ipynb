{
  "nbformat": 4,
  "nbformat_minor": 0,
  "metadata": {
    "colab": {
      "provenance": [],
      "include_colab_link": true
    },
    "kernelspec": {
      "name": "python3",
      "display_name": "Python 3"
    },
    "language_info": {
      "name": "python"
    }
  },
  "cells": [
    {
      "cell_type": "markdown",
      "metadata": {
        "id": "view-in-github",
        "colab_type": "text"
      },
      "source": [
        "<a href=\"https://colab.research.google.com/github/theozhangg/pocket_racers_assignments/blob/main/Lab_4.ipynb\" target=\"_parent\"><img src=\"https://colab.research.google.com/assets/colab-badge.svg\" alt=\"Open In Colab\"/></a>"
      ]
    },
    {
      "cell_type": "markdown",
      "source": [
        "# Lab 4\n",
        "\n",
        "In Lab 4, we will be coding Linear and Logistic regression using only Numpy! You will also be asked to use what you know about gradient descent to tweak the algorithms for better results. While teams should collaborate and help each other, each member of a group should complete their own code.\n",
        "\n",
        "This skeleton is intended to be somewhat sparse in order to give you the opportunity to become familiar with the intuition behind gradient descent and to make you very familiar with Numpy. Please reach out to us for any conceptual/mathematical questions or if you are stuck on something and need a hint - we don't want you spending hours on this!\n",
        "\n",
        "If you are unfamiliar with Numpy, don't worry! There are a ton of great resources on it and the its documentation is very well-written (*cough cough* OpenCV). You can figure our how to do most things with a simple Google Search, but here are some functions, operators, etc. that I found useful in this lab:\n",
        "\n",
        "    .dot() and @, .astype(), .T, unique(), mean(), sum(), inv(), pinv(), reshape(), vstack(), hstack(), .unique(), .concatenate(), .shape(), .any()"
      ],
      "metadata": {
        "id": "muqqV8jeVL_L"
      }
    },
    {
      "cell_type": "markdown",
      "source": [
        "### Some notes on using Colab\n",
        "\n",
        "If you've never used Colab before, this section is for you! Some things to note:\n",
        "\n",
        "* The different boxes in this document are segments of Python code. Many of them contain errors and won't work if you try to run them right away (using the play button on the left). You need to fill in the blanks to make them work!\n",
        "\n",
        "* If you update a block of code, even if you re-run it, you must also re-run all the blocks after it up to the point where you're currently working. They don't run themselves!"
      ],
      "metadata": {
        "id": "SjbC5heN7gvc"
      }
    },
    {
      "cell_type": "code",
      "execution_count": 2,
      "metadata": {
        "id": "L5fLK6aADdbb"
      },
      "outputs": [],
      "source": [
        "import numpy as np\n",
        "import csv\n",
        "from numpy.core.memmap import dtype\n",
        "import matplotlib.pyplot as plt\n",
        "\n",
        "# You may use these sklearn tools in your implementation, but no others.\n",
        "from sklearn.model_selection import train_test_split\n",
        "from sklearn.utils import shuffle"
      ]
    },
    {
      "cell_type": "code",
      "source": [
        "from google.colab import drive\n",
        "drive.mount('/content/drive')"
      ],
      "metadata": {
        "colab": {
          "base_uri": "https://localhost:8080/",
          "height": 0
        },
        "id": "Y_su9yqzaRUT",
        "outputId": "81088023-d947-4505-d50c-c1e2f8e04dca"
      },
      "execution_count": 3,
      "outputs": [
        {
          "output_type": "stream",
          "name": "stdout",
          "text": [
            "Mounted at /content/drive\n"
          ]
        }
      ]
    },
    {
      "cell_type": "code",
      "source": [
        "WEATHER_PATH = \"/content/drive/MyDrive/Copy of Lab 4/weatherHistory.csv\"\n",
        "data = np.loadtxt(WEATHER_PATH, delimiter=\",\", dtype=str)\n",
        "data = data[:,1:-1]\n",
        "header = data[0]\n",
        "data = data[1:]"
      ],
      "metadata": {
        "id": "gzfbZfiOd-QD"
      },
      "execution_count": 4,
      "outputs": []
    },
    {
      "cell_type": "markdown",
      "source": [
        "##Part 1: Single line fit!\n",
        "\n",
        "In this part of the lab, you will be using only the humidity data to estimate the temperature using linear regression. Then we well compare the results of a single feature linear regression with the closed form solution. Experiment with the learning rate and number of itterations and try to find the optimal learning rate for 40 itterations (we got it to 59.5)."
      ],
      "metadata": {
        "id": "6ednkRXhJw-C"
      }
    },
    {
      "cell_type": "code",
      "source": [
        "# Right now, the data is in one large matrix. Seperate out x as the humidity\n",
        "# and y as the temperature.\n",
        "\n",
        "x = data[:, 4]\n",
        "y = data[:, 2]\n",
        "#print(x, y)\n",
        "x = x.astype('float')\n",
        "y = y.astype('float')"
      ],
      "metadata": {
        "id": "BMM6lhCgcX6C"
      },
      "execution_count": 6,
      "outputs": []
    },
    {
      "cell_type": "code",
      "source": [
        "# Code the mean squared error function given x, y, a, and b.\n",
        "def MSE(x, y, a, b):\n",
        "  y_hat = a * x + b\n",
        "  return np.mean((y_hat - y)**2)\n",
        "\n",
        "# Code the gradient descent function. This will return the new values of a and b\n",
        "# after the gradient has been calculated and the learning rate has been applied.\n",
        "def grad_des(x, y, a, b):\n",
        "  d_a = np.mean(-2 * y * x + 2 * a * x ** 2 + 2 * x * b)\n",
        "  d_b = np.mean(-2 * y + 2 * a * x + 2 * b)\n",
        "  return (d_a, d_b)"
      ],
      "metadata": {
        "id": "jloJFPgkcYhA"
      },
      "execution_count": 7,
      "outputs": []
    },
    {
      "cell_type": "code",
      "source": [
        "# Initialize a and b.\n",
        "a = 0\n",
        "b = 0\n",
        "lr = .614\n",
        "losses = []\n",
        "for i in range(40):\n",
        "  losses.append(MSE(x, y, a, b))\n",
        "  # Update a and b using the values from your gradient descent function.\n",
        "  d_a, d_b = grad_des(x,y,a,b)\n",
        "  new_a = a - lr * d_a\n",
        "  new_b = b - lr * d_b\n",
        "  a, b = new_a, new_b\n",
        "\n",
        "print(f\"Final Training Loss: {losses[-1]}\")\n",
        "plt.plot(losses)\n",
        "plt.title(\"single feature loss over time\")"
      ],
      "metadata": {
        "id": "g5aW2pfhcvCB",
        "colab": {
          "base_uri": "https://localhost:8080/",
          "height": 316
        },
        "outputId": "dde0ecca-7a4c-4274-bb4a-35ebd4ff172c"
      },
      "execution_count": 14,
      "outputs": [
        {
          "output_type": "stream",
          "name": "stdout",
          "text": [
            "Final Training Loss: 59.49025579624444\n"
          ]
        },
        {
          "output_type": "execute_result",
          "data": {
            "text/plain": [
              "Text(0.5, 1.0, 'single feature loss over time')"
            ]
          },
          "metadata": {},
          "execution_count": 14
        },
        {
          "output_type": "display_data",
          "data": {
            "text/plain": [
              "<Figure size 432x288 with 1 Axes>"
            ],
            "image/png": "[encoded data removed]"
          },
          "metadata": {
            "needs_background": "light"
          }
        }
      ]
    },
    {
      "cell_type": "markdown",
      "source": [
        "This is your **loss graph**. Hang onto it, because you'll need it later for the checkoff.\n",
        "\n",
        "In addition, remember what we taught you guys about how your training should improve the loss: it should decay towards a minimum as the gradient descent iterations continue. Pay attention to the y-axis here, which indicates the loss. If your error blows up towards infinity or doesn't decrease very quickly, you should be able to recognize and rectify the issue with your hyperparameters!"
      ],
      "metadata": {
        "id": "2MNDAPUytKMz"
      }
    },
    {
      "cell_type": "code",
      "source": [
        "# Let's take a look at what our line of best fit looks like!\n",
        "plt.scatter(x, y)\n",
        "plt.plot(x, a*x+b, color='orange')"
      ],
      "metadata": {
        "id": "fQkqljmFOhU-",
        "colab": {
          "base_uri": "https://localhost:8080/",
          "height": 282
        },
        "outputId": "1faceedd-0053-4a71-a854-ef44dc78a87d"
      },
      "execution_count": 9,
      "outputs": [
        {
          "output_type": "execute_result",
          "data": {
            "text/plain": [
              "[<matplotlib.lines.Line2D at 0x7f47dfb27e50>]"
            ]
          },
          "metadata": {},
          "execution_count": 9
        },
        {
          "output_type": "display_data",
          "data": {
            "text/plain": [
              "<Figure size 432x288 with 1 Axes>"
            ],
            "image/png": "[encoded data removed]"
          },
          "metadata": {
            "needs_background": "light"
          }
        }
      ]
    },
    {
      "cell_type": "code",
      "source": [
        "# Now let's find the true optimal solution using the closed form equation. Use\n",
        "# np.polyfit or other such functions only to check your work.\n",
        "# Don't forget what you need to add to the X matrix in order for the closed form\n",
        "# to work!\n",
        "\n",
        "#need to add the extra 1's for bias\n",
        "new_x = np.c_[x, np.ones(x.size)]\n",
        "#@ means multiplication of two matrices\n",
        "#inv means mult inverse of a matrix\n",
        "#T menas transpose, put it on its side\n",
        "th = np.linalg.inv(new_x.T @ new_x) @ new_x.T @ y\n",
        "a1, b1 = th"
      ],
      "metadata": {
        "id": "pxGDtLifABtp"
      },
      "execution_count": 10,
      "outputs": []
    },
    {
      "cell_type": "code",
      "source": [
        "# Compare our closed form with our gradient descent. The closed form solution\n",
        "# should be the same thing as the result of polyfit.\n",
        "\n",
        "a2, b2 = np.polyfit(x, y, 1)\n",
        "print(f\"Grad Desc:   a: {a} b: {b} MSE: {MSE(x, y, a, b)}\")\n",
        "print(f\"Closed form: a: {a1} b: {b1} MSE: {MSE(x, y, a1, b1)}\")\n",
        "print(f\"Poly Fit:    a: {a2} b: {b2}\")\n",
        "\n",
        "plt.scatter(x, y)\n",
        "plt.plot(x, a*x+b, color='orange')\n",
        "plt.plot(x, a1*x+b1, color='yellow')\n",
        "plt.title(\"closed and gd best fit lines\")"
      ],
      "metadata": {
        "id": "3CPIwSJGPeuL",
        "colab": {
          "base_uri": "https://localhost:8080/",
          "height": 350
        },
        "outputId": "1004cd2d-fc97-4e0e-f2e6-9fc732bdb1be"
      },
      "execution_count": 13,
      "outputs": [
        {
          "output_type": "stream",
          "name": "stdout",
          "text": [
            "Grad Desc:   a: -20.34677104584479 b: 26.451514496623805 MSE: 59.2010272881167\n",
            "Closed form: a: -30.894383758050832 b: 34.63692912688918 MSE: 54.761829807719856\n",
            "Poly Fit:    a: -30.894383758051426 b: 34.63692912688962\n"
          ]
        },
        {
          "output_type": "execute_result",
          "data": {
            "text/plain": [
              "Text(0.5, 1.0, 'closed and gd best fit lines')"
            ]
          },
          "metadata": {},
          "execution_count": 13
        },
        {
          "output_type": "display_data",
          "data": {
            "text/plain": [
              "<Figure size 432x288 with 1 Axes>"
            ],
            "image/png": "[encoded data removed]"
          },
          "metadata": {
            "needs_background": "light"
          }
        }
      ]
    },
    {
      "cell_type": "markdown",
      "source": [
        "To get checked off for this part, show us you:\n",
        "- loss graph\n",
        "- the graph with your 2 best fit lines\n",
        "- the final MSE for your gradient descent and closed form solutions\n",
        "- your grad_des function"
      ],
      "metadata": {
        "id": "DRQny2AxyYno"
      }
    },
    {
      "cell_type": "markdown",
      "source": [
        "##Part 2: Multiple input features\n",
        "\n",
        "In this part we will modify our gradient descent function to accept all of the possible input features. This will require converting the precipitation type and weather summaries to one-hot encodings (see slides 20-25 and 33). Then we will have to change our equations to be in matrix notation."
      ],
      "metadata": {
        "id": "7epkPYWlQ4nZ"
      }
    },
    {
      "cell_type": "code",
      "source": [
        "# First, lets get our x and y data one-hot encoded.\n",
        "# hot_X should be the data where the categorical fields are converted into\n",
        "#     one-hot encodings (temperature data excluded). \n",
        "# As a sanity check, the dimensions should be (96453, 38).\n",
        "# hot_y should still just be the temperature data.\n",
        "def encode_onehot(array):\n",
        "  #have to get the unique values of each column to use them as values to encode\n",
        "  #return indices of the first instances of the unique values as well\n",
        "  unique, inverse = np.unique(array, return_inverse=True)\n",
        "  #now make a matrix where the 1's correlate to the category\n",
        "  onehot = np.eye(unique.shape[0])[inverse]\n",
        "  return onehot\n",
        "\n",
        "summaries_onehot = encode_onehot(data[:, 0])\n",
        "precip_onehot = encode_onehot(data[:, 1])\n",
        "\n",
        "hot_X = np.c_[summaries_onehot, precip_onehot, data[:, 2:]].astype(float)\n",
        "hot_y = np.c_[y].astype(float)"
      ],
      "metadata": {
        "id": "xf5Xh3bTDyt7"
      },
      "execution_count": 12,
      "outputs": []
    },
    {
      "cell_type": "markdown",
      "source": [
        "Now update your gradient descent and Mean Squared Error function to be able to learn from multiple features. See how low you can get the error after 40 iterations.\n",
        "\n",
        "You may notice a higher error than we got in part 1, especially when compared with an extrememly low closed form error. Think about why this may be the case and what hyperparameters you can tune to improve this."
      ],
      "metadata": {
        "id": "LPj6pbr5ZlWY"
      }
    },
    {
      "cell_type": "code",
      "source": [
        "def grad_des2(X, y, theta, learning_rate):\n",
        "  grad_L = 1 / y.shape[0] * (-2 * X.T @ y + 2 * X.T @ X @ theta)\n",
        "  return theta - learning_rate * grad_L\n",
        "\n",
        "def MSE2(X, y, theta):\n",
        "  error = 1 / y.shape[0] * (y - X @ theta).T @ (y - X @ theta)\n",
        "  return error[0][0]\n",
        "\n",
        "theta = np.zeros((len(hot_X[0]), 1))\n",
        "MSE2(hot_X, hot_y, theta)"
      ],
      "metadata": {
        "id": "ER3-CeSzlGZ-",
        "colab": {
          "base_uri": "https://localhost:8080/",
          "height": 0
        },
        "outputId": "e50e331e-08aa-4b89-cee3-9ee5d3199e2f"
      },
      "execution_count": 15,
      "outputs": [
        {
          "output_type": "execute_result",
          "data": {
            "text/plain": [
              "233.6199059383237"
            ]
          },
          "metadata": {},
          "execution_count": 15
        }
      ]
    },
    {
      "cell_type": "code",
      "source": [
        "learning_rate = 0.00000091\n",
        "\n",
        "theta = np.zeros((len(hot_X[0]), 1))\n",
        "\n",
        "losses = []\n",
        "losses.append(MSE2(hot_X, hot_y, theta))\n",
        "\n",
        "for i in range(40):\n",
        "  theta = grad_des2(hot_X, hot_y, theta, learning_rate)\n",
        "  losses.append(MSE2(hot_X, hot_y, theta))\n",
        "  \n",
        "print(f\"Final Training Loss: {losses[-1]}\")\n",
        "plt.plot(losses)\n",
        "plt.title(\"Multi feature loss over time\")"
      ],
      "metadata": {
        "id": "KA_3W7uIX7wY",
        "colab": {
          "base_uri": "https://localhost:8080/",
          "height": 316
        },
        "outputId": "c58ae811-f6d7-41c1-ca91-68b39174d93e"
      },
      "execution_count": 25,
      "outputs": [
        {
          "output_type": "stream",
          "name": "stdout",
          "text": [
            "Final Training Loss: 90.31415451658769\n"
          ]
        },
        {
          "output_type": "execute_result",
          "data": {
            "text/plain": [
              "Text(0.5, 1.0, 'Multi feature loss over time')"
            ]
          },
          "metadata": {},
          "execution_count": 25
        },
        {
          "output_type": "display_data",
          "data": {
            "text/plain": [
              "<Figure size 432x288 with 1 Axes>"
            ],
            "image/png": "[encoded data removed]"
          },
          "metadata": {
            "needs_background": "light"
          }
        }
      ]
    },
    {
      "cell_type": "code",
      "source": [
        "# Now solve for theta using the closed form and compare your final training loss between\n",
        "# the closed form and regression solution\n",
        "\n",
        "#can't really inverse a singular matrix (det does not exist) so use pinv\n",
        "th2 = np.linalg.pinv(hot_X.T @ hot_X) @ hot_X.T @ hot_y\n",
        "MSE2(hot_X, hot_y, th2)"
      ],
      "metadata": {
        "id": "NAwYox2IlAwR",
        "colab": {
          "base_uri": "https://localhost:8080/",
          "height": 0
        },
        "outputId": "39434e41-4a03-45f9-d93a-066092aa6393"
      },
      "execution_count": 28,
      "outputs": [
        {
          "output_type": "execute_result",
          "data": {
            "text/plain": [
              "1.3543407450298143e-19"
            ]
          },
          "metadata": {},
          "execution_count": 28
        }
      ]
    },
    {
      "cell_type": "markdown",
      "source": [
        "As you can (probably) see, the gradient descent error is worse than the single input version and much worse than the closed form solution. Think about why this is and how can improve it (hint: we talked about this technique in our lecture). Copy your code above into the cell below to make any modifications to improve your gradient descent!"
      ],
      "metadata": {
        "id": "ohg09kKbowKh"
      }
    },
    {
      "cell_type": "code",
      "source": [
        "#running it on multiple inputs means way more data points\n",
        "#so, you can do minibatching instead\n",
        "learning_rate = 0.00000001\n",
        "\n",
        "theta = np.zeros((len(hot_X[0]), 1))\n",
        "\n",
        "losses = []\n",
        "losses.append(MSE2(hot_X, hot_y, theta))\n",
        "\n",
        "BATCH_SIZE = 15\n",
        "\n",
        "for i in range(1000):\n",
        "  #make a minibatch\n",
        "  #first find a random place to start in the hot_x\n",
        "  start = np.random.randint(0, hot_X.shape[0])\n",
        "  #make a subset of it using the batch size\n",
        "  subset_X = hot_X[start:start+BATCH_SIZE]\n",
        "  subset_y = hot_y[start:start+BATCH_SIZE]\n",
        "  #update the values with the minibatch\n",
        "  theta = grad_des2(subset_X, subset_y, theta, learning_rate)\n",
        "  losses.append(MSE2(hot_X, hot_y, theta))\n",
        "\n",
        "print(f\"Final Training Loss: {losses[-1]}\")\n",
        "plt.plot(losses)\n",
        "plt.title(\"Modified multi feature loss over time\")"
      ],
      "metadata": {
        "id": "CRt5qgwwlA3z",
        "colab": {
          "base_uri": "https://localhost:8080/",
          "height": 316
        },
        "outputId": "70e56519-da42-4dbf-9c9d-26cdaf83050f"
      },
      "execution_count": 38,
      "outputs": [
        {
          "output_type": "stream",
          "name": "stdout",
          "text": [
            "Final Training Loss: 92.25375277793233\n"
          ]
        },
        {
          "output_type": "execute_result",
          "data": {
            "text/plain": [
              "Text(0.5, 1.0, 'Modified multi feature loss over time')"
            ]
          },
          "metadata": {},
          "execution_count": 38
        },
        {
          "output_type": "display_data",
          "data": {
            "text/plain": [
              "<Figure size 432x288 with 1 Axes>"
            ],
            "image/png": "[encoded data removed]"
          },
          "metadata": {
            "needs_background": "light"
          }
        }
      ]
    },
    {
      "cell_type": "markdown",
      "source": [
        "To get checked off for this part, show us:\n",
        "- both of you loss graphs\n",
        "- closed form error\n",
        "- your code for both GD algorithms\n",
        "- an explaination of what you changed and why\n"
      ],
      "metadata": {
        "id": "6xaEPHn-z1mi"
      }
    },
    {
      "cell_type": "markdown",
      "source": [
        "##Part 3: Logistic Regression and K-fold Cross Validation\n",
        "\n",
        "In this part of the lab you will be esimating if someone will suffer a heart attack in the next 10 years based on health statistics. This time, we will be using K-fold cross validation to determine the viability of our model. In lecture, we did not give you the full equation for logistic regression, I suggest deriving it before starting that part of the lab. Try to do it yourself! (The answer should be **simple** - if you are coding a disgusting equation, that is wrong and you should stop.)"
      ],
      "metadata": {
        "id": "24daL8AevMGl"
      }
    },
    {
      "cell_type": "code",
      "source": [
        "HAM_PATH = \"/content/drive/MyDrive/Copy of Lab 4/framingham.csv\"\n",
        "health_data = np.loadtxt(HAM_PATH, delimiter=\",\", dtype=str)\n",
        "\n",
        "# But wait! The data is not complete! Take a look to see what is wrong with it\n",
        "# and remove any offending datapoints (rows) - this is the \"cleaning\" stage of\n",
        "# the ML pipeline.\n",
        "# Challange: do this in one line.\n",
        "\n",
        "#tilde means logical not, the any(1) means look row wise and checks if any value is true and only keeps it if true\n",
        "health_data = health_data[~(health_data == \"NA\").any(1), :]"
      ],
      "metadata": {
        "id": "XuXTFje4X-6S"
      },
      "execution_count": 40,
      "outputs": []
    },
    {
      "cell_type": "code",
      "source": [
        "# Create your X and Y data and clean it! Binarize the assigned-sex-at-birth\n",
        "# column and add the bias term to your X data\n",
        "\n",
        "health_x = health_data[1:,1:-1]\n",
        "#add the 1's for the bias term\n",
        "health_x = np.c_[health_x, np.ones(health_x.shape[0])]\n",
        "health_y = health_data[1:,-1]\n",
        "\n",
        "#Clean it up!\n",
        "\n",
        "health_x = health_x.astype('double')\n",
        "health_y = health_y.astype('double')"
      ],
      "metadata": {
        "id": "QjoUIp179B6V"
      },
      "execution_count": 41,
      "outputs": []
    },
    {
      "cell_type": "code",
      "source": [
        "# Separate your training data into 5 folds for cross validation\n",
        "\n",
        "X_train, X_test, y_train, y_test = train_test_split(health_x, health_y, test_size=0.2, random_state=0)\n",
        "X_train, y_train = shuffle(X_train, y_train)\n",
        "k = 5\n",
        "\n",
        "X_folds = np.array_split(X_train,k)\n",
        "y_folds = np.array_split(y_train, k)\n",
        "\n",
        "\n",
        "# A quick check:\n",
        "for fold in range(k):\n",
        "  print(X_folds[fold].shape)\n",
        "  print(y_folds[fold].shape)"
      ],
      "metadata": {
        "id": "c1pPkRN53Mig",
        "colab": {
          "base_uri": "https://localhost:8080/"
        },
        "outputId": "f169e1a2-b1ba-4194-ab25-a5d18eb790f1"
      },
      "execution_count": 42,
      "outputs": [
        {
          "output_type": "stream",
          "name": "stdout",
          "text": [
            "(585, 15)\n",
            "(585,)\n",
            "(585, 15)\n",
            "(585,)\n",
            "(585, 15)\n",
            "(585,)\n",
            "(585, 15)\n",
            "(585,)\n",
            "(584, 15)\n",
            "(584,)\n"
          ]
        }
      ]
    },
    {
      "cell_type": "code",
      "source": [
        "# Now lets code all of our relevant equations.\n",
        "\n",
        "def sigmoid(x):\n",
        "  sig = 1 / (1 + np.exp(-x))\n",
        "  return sig\n",
        "\n",
        "def accuracy(X, y, theta): \n",
        "  diff = np.abs(y - np.round(sigmoid(X @ theta))) \n",
        "  return np.mean(np.where((diff) == 0, 1, 0))\n",
        "\n",
        "def cross_entropy_loss(X, y, theta):\n",
        "    y_hat = sigmoid(X @ theta)\n",
        "    loss = -y @ np.log(y_hat)-(1-y) @ np.log(1-y_hat+.0001)\n",
        "    return np.mean(loss)\n",
        "\n",
        "def log_grad_desc(X, y_hat, y, lr):\n",
        "  gradient = 1 / y.shape[0]*(X.T @ (y_hat-y))\n",
        "  return theta - lr * gradient"
      ],
      "metadata": {
        "id": "8MLzr9k93sd6"
      },
      "execution_count": 53,
      "outputs": []
    },
    {
      "cell_type": "code",
      "source": [
        "# Now lets validate our model. Use the validation error to tune your\n",
        "#hyperparameters. Also, compare your validation and training errors\n",
        "\n",
        "lr = .000001\n",
        "\n",
        "val_losses = []\n",
        "train_losses = []\n",
        "for fold in range(k):\n",
        "  theta = np.random.randn(health_x.shape[1]) # Reinitialize theta\n",
        "\n",
        "  # Set your validation and training datasets\n",
        "  X_val = X_folds[fold]\n",
        "  y_val = y_folds[fold]\n",
        "  X_train = np.vstack(np.delete(X_folds, fold))\n",
        "  y_train = np.hstack(np.delete(y_folds, fold))\n",
        "  for i in range(5000):\n",
        "    theta = log_grad_desc(X_train, sigmoid(X_train @ theta), y_train, lr)\n",
        "    pass\n",
        "    \n",
        "  val_losses.append(cross_entropy_loss(X_val, y_val, theta))\n",
        "  train_losses.append(cross_entropy_loss(X_train, y_train, theta))\n",
        "\n",
        "\n",
        "print(f\"train_losses: {sum(train_losses)/len(train_losses)}\")\n",
        "print(f\"val_losses: {sum(val_losses)/len(val_losses)}\")"
      ],
      "metadata": {
        "id": "HgPWsVoy4K8i",
        "colab": {
          "base_uri": "https://localhost:8080/"
        },
        "outputId": "c8457701-e965-4dab-9002-ddaaaddbae69"
      },
      "execution_count": 55,
      "outputs": [
        {
          "output_type": "stream",
          "name": "stderr",
          "text": [
            "/usr/local/lib/python3.8/dist-packages/numpy/lib/function_base.py:4454: VisibleDeprecationWarning: Creating an ndarray from ragged nested sequences (which is a list-or-tuple of lists-or-tuples-or ndarrays with different lengths or shapes) is deprecated. If you meant to do this, you must specify 'dtype=object' when creating the ndarray.\n",
            "  arr = asarray(arr)\n"
          ]
        },
        {
          "output_type": "stream",
          "name": "stdout",
          "text": [
            "train_losses: 55260.220556994886\n",
            "val_losses: 13869.06720531177\n"
          ]
        }
      ]
    },
    {
      "cell_type": "code",
      "source": [
        "# Training - once you have tuned your hyperparameters, train your model once\n",
        "# more on all the training data and then test it on the test dataset\n",
        "\n",
        "lr = .005\n",
        "theta = np.random.randn(health_x.shape[1])\n",
        "\n",
        "for i in range(5000):\n",
        "  #Gradient Descent\n",
        "  theta = log_grad_desc(X_train, sigmoid(X_train @ theta), y_train, learning_rate)\n",
        "  pass\n",
        "\n",
        "print(f\"Testing Accuracy: {accuracy(X_test, y_test, theta)}\")"
      ],
      "metadata": {
        "id": "siykWRXC5TOh",
        "colab": {
          "base_uri": "https://localhost:8080/"
        },
        "outputId": "212c7b31-6f50-4d91-8593-4184a7b780cc"
      },
      "execution_count": 59,
      "outputs": [
        {
          "output_type": "stream",
          "name": "stdout",
          "text": [
            "Testing Accuracy: 0.73224043715847\n"
          ]
        }
      ]
    },
    {
      "cell_type": "markdown",
      "source": [
        "To be checked off for this part, show us your code for gradient descent and the resulting outputs and losses."
      ],
      "metadata": {
        "id": "TOVrfwdN51ey"
      }
    }
  ]
}